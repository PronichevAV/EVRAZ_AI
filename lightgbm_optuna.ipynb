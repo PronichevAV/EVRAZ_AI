{
 "cells": [
  {
   "cell_type": "code",
   "execution_count": 1,
   "id": "1ea6c3cf-3deb-49af-b47e-b2fef852a972",
   "metadata": {},
   "outputs": [],
   "source": [
    "import numpy as np\n",
    "import pandas as pd\n",
    "import seaborn as sns\n",
    "sns.set(style=\"whitegrid\", rc={'figure.figsize':(16,5)})\n",
    "\n",
    "from data import preprocessing\n",
    "from func import get_timestamp\n",
    "\n",
    "from lightgbm import LGBMRegressor, Booster\n",
    "from sklearn.model_selection import KFold, train_test_split\n",
    "from sklearn.preprocessing import QuantileTransformer\n",
    "import optuna\n",
    "\n",
    "import pickle\n",
    "\n",
    "submission = False"
   ]
  },
  {
   "cell_type": "code",
   "execution_count": 2,
   "id": "08139d9d-4316-4726-a4a8-3bd4977769b2",
   "metadata": {},
   "outputs": [
    {
     "name": "stdout",
     "output_type": "stream",
     "text": [
      "Чтение закончилось\n",
      "Int64Index([510008, 510009, 510010, 510011, 510012, 510013, 510014, 510015,\n",
      "            510016, 510017],\n",
      "           dtype='int64', name='NPLV')\n",
      "Int64Index([510008, 510009, 510010, 510011, 510012, 510013, 510014, 510015,\n",
      "            510016, 510017,\n",
      "            ...\n",
      "            512313, 512314, 512315, 512316, 512317, 512318, 512319, 512320,\n",
      "            512321, 512322],\n",
      "           dtype='int64', name='NPLV', length=2063)\n",
      "1\n",
      "Index(['NPLV', 'VES', 'T', 'SI', 'MN', 'S', 'P', 'CR', 'NI', 'CU', 'V', 'TI',\n",
      "       'DATA_ZAMERA', 'plavka_VR_NACH', 'plavka_VR_KON', 'plavka_NMZ',\n",
      "       'plavka_NAPR_ZAD', 'plavka_STFUT', 'plavka_TIPE_FUR', 'plavka_ST_FURM',\n",
      "       'plavka_TIPE_GOL', 'plavka_ST_GOL', 'TST', 'C', 'plavka_time',\n",
      "       'timediff_chugun', 'furma_chosen_mean', 'furma_chosen_max', 'VES0',\n",
      "       'VES1', 'VES2', 'VES3', 'VES4', 'VES5', 'VES6', 'VES7', 'VES8',\n",
      "       'VSSYP104', 'VSSYP119', 'VSSYP171', 'VSSYP346', 'VSSYP397', 'VSSYP408',\n",
      "       'VSSYP442', 'index', 'produv_mean_RAS', 'produv_mean_POL',\n",
      "       'produv_sum_RAS', 'produv_sum_POL', 'produv_min_RAS', 'produv_min_POL',\n",
      "       'produv_max_RAS', 'produv_max_POL', 'produv_std_RAS', 'produv_std_POL',\n",
      "       'produv_amp_RAS', 'produv_amp_POL', 'pressure_mean_O2_pressure',\n",
      "       'pressure_sum_O2_pressure', 'pressure_min_O2_pressure',\n",
      "       'pressure_max_O2_pressure', 'pressure_std_O2_pressure',\n",
      "       'pressure_amp_O2_pressure', 'chronom_O2', 'chronom_produv_NACH',\n",
      "       'chronom_produv_KON', 'chronom_produv_td', 'chronom_produv_timediff',\n",
      "       'O2_volume', 'N2_volume', 'H2_volume', 'CO2_volume', 'CO_volume',\n",
      "       'AR_volume', 'out_C', 'gas_heat', 'time_betw_plavki'],\n",
      "      dtype='object')\n",
      "CPU times: user 4min, sys: 25.9 s, total: 4min 26s\n",
      "Wall time: 3min 33s\n"
     ]
    }
   ],
   "source": [
    "%%time\n",
    "target_column = 'C'\n",
    "\n",
    "kwargs = {\n",
    "          'encode_cat': True}\n",
    "train_pre, test_pre, num_columns, cat_columns, target = preprocessing(**kwargs)"
   ]
  },
  {
   "cell_type": "code",
   "execution_count": 3,
   "id": "bffc378f-fd51-4cc4-90fb-3deb5add3533",
   "metadata": {},
   "outputs": [],
   "source": [
    "# Drop features\n",
    "\n",
    "bad_features = ['VSSYP397', 'VSSYP119', 'NI', 'plavka_TIPE_FUR', 'VES3', 'VES0', 'VSSYP104', 'VES6', 'VES7', 'CU', 'CR']\n",
    "#bad_features = []\n",
    "train_pre.drop(bad_features, axis = 1, inplace = True, errors = 'ignore')\n",
    "test_pre.drop(bad_features, axis = 1, inplace = True, errors = 'ignore')\n",
    "\n",
    "num_columns = [column for column in num_columns if column not in bad_features]\n",
    "cat_columns = [column for column in cat_columns if column not in bad_features]\n",
    "X_columns = num_columns + cat_columns"
   ]
  },
  {
   "cell_type": "code",
   "execution_count": 4,
   "id": "002cf35c-3a32-49d0-946f-14e30507b035",
   "metadata": {},
   "outputs": [
    {
     "data": {
      "text/plain": [
       "['VES',\n",
       " 'T',\n",
       " 'SI',\n",
       " 'MN',\n",
       " 'S',\n",
       " 'P',\n",
       " 'V',\n",
       " 'TI',\n",
       " 'plavka_STFUT',\n",
       " 'plavka_ST_FURM',\n",
       " 'plavka_ST_GOL',\n",
       " 'plavka_time',\n",
       " 'timediff_chugun',\n",
       " 'furma_chosen_mean',\n",
       " 'furma_chosen_max',\n",
       " 'VES1',\n",
       " 'VES2',\n",
       " 'VES4',\n",
       " 'VES5',\n",
       " 'VSSYP171',\n",
       " 'VSSYP346',\n",
       " 'VSSYP408',\n",
       " 'VSSYP442',\n",
       " 'produv_mean_RAS',\n",
       " 'produv_mean_POL',\n",
       " 'produv_sum_RAS',\n",
       " 'produv_sum_POL',\n",
       " 'produv_min_RAS',\n",
       " 'produv_min_POL',\n",
       " 'produv_max_RAS',\n",
       " 'produv_max_POL',\n",
       " 'produv_std_RAS',\n",
       " 'produv_std_POL',\n",
       " 'produv_amp_RAS',\n",
       " 'produv_amp_POL',\n",
       " 'pressure_mean_O2_pressure',\n",
       " 'pressure_sum_O2_pressure',\n",
       " 'pressure_min_O2_pressure',\n",
       " 'pressure_max_O2_pressure',\n",
       " 'pressure_std_O2_pressure',\n",
       " 'pressure_amp_O2_pressure',\n",
       " 'chronom_O2',\n",
       " 'chronom_produv_timediff',\n",
       " 'O2_volume',\n",
       " 'N2_volume',\n",
       " 'H2_volume',\n",
       " 'CO2_volume',\n",
       " 'CO_volume',\n",
       " 'AR_volume',\n",
       " 'out_C',\n",
       " 'gas_heat',\n",
       " 'time_betw_plavki',\n",
       " 'plavka_NMZ',\n",
       " 'plavka_NAPR_ZAD',\n",
       " 'plavka_TIPE_GOL']"
      ]
     },
     "execution_count": 4,
     "metadata": {},
     "output_type": "execute_result"
    }
   ],
   "source": [
    "X_columns"
   ]
  },
  {
   "cell_type": "code",
   "execution_count": 5,
   "id": "07e549a2-753c-43f2-8f89-797a3edb776d",
   "metadata": {},
   "outputs": [
    {
     "data": {
      "text/plain": [
       "<AxesSubplot:xlabel='C', ylabel='Count'>"
      ]
     },
     "execution_count": 5,
     "metadata": {},
     "output_type": "execute_result"
    },
    {
     "data": {
      "image/png": "[encoded data removed]",
      "text/plain": [
       "<Figure size 1152x360 with 1 Axes>"
      ]
     },
     "metadata": {},
     "output_type": "display_data"
    }
   ],
   "source": [
    "sns.histplot(train_pre[target_column])"
   ]
  },
  {
   "cell_type": "code",
   "execution_count": 6,
   "id": "c5af7458-1bd1-4f96-a714-76d81d1e647a",
   "metadata": {},
   "outputs": [],
   "source": [
    "QT = QuantileTransformer(n_quantiles = 500, output_distribution = 'normal', random_state = 42)\n",
    "train_pre[target_column] = QT.fit_transform(np.array(train_pre[target_column]).reshape(-1, 1))"
   ]
  },
  {
   "cell_type": "code",
   "execution_count": 7,
   "id": "bc57cb3e-ebe7-4434-b216-6bd5012d974d",
   "metadata": {},
   "outputs": [
    {
     "data": {
      "text/plain": [
       "<AxesSubplot:xlabel='C', ylabel='Count'>"
      ]
     },
     "execution_count": 7,
     "metadata": {},
     "output_type": "execute_result"
    },
    {
     "data": {
      "image/png": "[encoded data removed]",
      "text/plain": [
       "<Figure size 1152x360 with 1 Axes>"
      ]
     },
     "metadata": {},
     "output_type": "display_data"
    }
   ],
   "source": [
    "sns.histplot(train_pre[target_column])"
   ]
  },
  {
   "cell_type": "code",
   "execution_count": 8,
   "id": "3f1a82a0-13f6-447f-9503-994eb7792070",
   "metadata": {},
   "outputs": [],
   "source": [
    "def objective(trial): \n",
    "    # If holdout set\n",
    "    indices = np.arange(train_pre.shape[0])\n",
    "    #splits = [train_test_split(indices, test_size=0.2, random_state=42)]\n",
    "    splitter = KFold(n_splits=5, shuffle = True, random_state = 42)\n",
    "    splits = splitter.split(train_pre)\n",
    "    \n",
    "    lightgbm_params = {'num_leaves': trial.suggest_int('num_leaves', 16, 256, log = True), \n",
    "                       'max_depth': trial.suggest_int('max_depth', 4, 12),\n",
    "                       'learning_rate': trial.suggest_loguniform('learning_rate', 0.001, 1),\n",
    "                       'n_estimators': 10000,\n",
    "                       'min_child_samples': trial.suggest_int('min_child_samples', 10, 1000, log = True), \n",
    "                       'reg_alpha': trial.suggest_loguniform('reg_alpha', 1e-6, 100),\n",
    "                       'min_sum_hessian_in_leaf': trial.suggest_loguniform('min_sum_hessian_in_leaf', 1e-3, 10),\n",
    "                       'reg_lambda': trial.suggest_loguniform('reg_lambda', 1e-6, 100),\n",
    "                       'importance_type': 'gain'}\n",
    "    \n",
    "    eval_scores = []\n",
    "    iters = []\n",
    "    \n",
    "    \n",
    "    for train_index, val_index in splits:\n",
    "        train_split = train_pre.iloc[train_index]\n",
    "        val_split = train_pre.iloc[val_index]\n",
    "        \n",
    "        model = LGBMRegressor(**lightgbm_params)\n",
    "        \n",
    "        model.fit(train_split[X_columns], \n",
    "                  train_split[target_column], \n",
    "                  eval_set = (val_split[X_columns], val_split[target_column]), \n",
    "                  early_stopping_rounds = 100,\n",
    "                  eval_metric = 'rmse',\n",
    "                  verbose = 500,\n",
    "                  categorical_feature = cat_columns)\n",
    "        \n",
    "        # Return loss, iter\n",
    "        eval_scores.append(model.best_score_[\"valid_0\"][\"rmse\"])\n",
    "        iters.append(model.best_iteration_)\n",
    "        #print(model.best_score_[\"valid_0\"][\"deviation_metric\"], model.best_iteration_)\n",
    "        \n",
    "    trial.set_user_attr(\"es_mean_iter\", np.mean(iters))\n",
    "    return np.mean(eval_scores)"
   ]
  },
  {
   "cell_type": "code",
   "execution_count": null,
   "id": "e86d3a86-8803-47c7-8477-bd3cd7fd64ba",
   "metadata": {
    "scrolled": true,
    "tags": []
   },
   "outputs": [
    {
     "name": "stderr",
     "output_type": "stream",
     "text": [
      "\u001b[32m[I 2021-10-31 00:01:54,810]\u001b[0m A new study created in memory with name: no-name-2814f09a-ca5a-434f-8a09-e32dce1fb36f\u001b[0m\n",
      "/home/oleg/miniconda3/envs/tabular/lib/python3.9/site-packages/optuna/progress_bar.py:47: ExperimentalWarning: Progress bar is experimental (supported from v1.2.0). The interface can change in the future.\n",
      "  self._init_valid()\n"
     ]
    },
    {
     "data": {
      "application/vnd.jupyter.widget-view+json": {
       "model_id": "c080fd3ba2a54a87a4c5989c246e49d1",
       "version_major": 2,
       "version_minor": 0
      },
      "text/plain": [
       "  0%|          | 0/50 [00:00<?, ?it/s]"
      ]
     },
     "metadata": {},
     "output_type": "display_data"
    },
    {
     "name": "stderr",
     "output_type": "stream",
     "text": [
      "/home/oleg/miniconda3/envs/tabular/lib/python3.9/site-packages/lightgbm/basic.py:1294: UserWarning: categorical_feature in Dataset is overridden.\n",
      "New categorical_feature is ['plavka_NAPR_ZAD', 'plavka_NMZ', 'plavka_TIPE_GOL']\n",
      "  warnings.warn('categorical_feature in Dataset is overridden.\\n'\n"
     ]
    },
    {
     "name": "stdout",
     "output_type": "stream",
     "text": [
      "[LightGBM] [Warning] min_sum_hessian_in_leaf is set=0.35124858518607255, min_child_weight=0.001 will be ignored. Current value: min_sum_hessian_in_leaf=0.35124858518607255\n",
      "Training until validation scores don't improve for 100 rounds\n",
      "[500]\tvalid_0's rmse: 0.713596\tvalid_0's l2: 0.50922\n",
      "[1000]\tvalid_0's rmse: 0.708324\tvalid_0's l2: 0.501723\n",
      "Early stopping, best iteration is:\n",
      "[1364]\tvalid_0's rmse: 0.704717\tvalid_0's l2: 0.496625\n",
      "Training until validation scores don't improve for 100 rounds\n",
      "[500]\tvalid_0's rmse: 0.750713\tvalid_0's l2: 0.563571\n",
      "[1000]\tvalid_0's rmse: 0.734816\tvalid_0's l2: 0.539954\n",
      "[1500]\tvalid_0's rmse: 0.72563\tvalid_0's l2: 0.526539\n",
      "Early stopping, best iteration is:\n",
      "[1543]\tvalid_0's rmse: 0.725415\tvalid_0's l2: 0.526226\n",
      "Training until validation scores don't improve for 100 rounds\n",
      "[500]\tvalid_0's rmse: 0.758976\tvalid_0's l2: 0.576045\n",
      "[1000]\tvalid_0's rmse: 0.749674\tvalid_0's l2: 0.562012\n",
      "[1500]\tvalid_0's rmse: 0.745749\tvalid_0's l2: 0.556141\n",
      "Early stopping, best iteration is:\n",
      "[1708]\tvalid_0's rmse: 0.744886\tvalid_0's l2: 0.554856\n",
      "Training until validation scores don't improve for 100 rounds\n",
      "[500]\tvalid_0's rmse: 0.728371\tvalid_0's l2: 0.530524\n",
      "[1000]\tvalid_0's rmse: 0.702232\tvalid_0's l2: 0.49313\n",
      "[1500]\tvalid_0's rmse: 0.691762\tvalid_0's l2: 0.478535\n",
      "[2000]\tvalid_0's rmse: 0.68716\tvalid_0's l2: 0.472189\n",
      "Early stopping, best iteration is:\n",
      "[2084]\tvalid_0's rmse: 0.686881\tvalid_0's l2: 0.471806\n",
      "Training until validation scores don't improve for 100 rounds\n",
      "[500]\tvalid_0's rmse: 0.799879\tvalid_0's l2: 0.639807\n",
      "[1000]\tvalid_0's rmse: 0.786312\tvalid_0's l2: 0.618286\n",
      "[1500]\tvalid_0's rmse: 0.777893\tvalid_0's l2: 0.605117\n",
      "[2000]\tvalid_0's rmse: 0.77253\tvalid_0's l2: 0.596803\n",
      "[2500]\tvalid_0's rmse: 0.76932\tvalid_0's l2: 0.591854\n",
      "[3000]\tvalid_0's rmse: 0.76756\tvalid_0's l2: 0.589149\n",
      "[3500]\tvalid_0's rmse: 0.766344\tvalid_0's l2: 0.587283\n",
      "Early stopping, best iteration is:\n",
      "[3601]\tvalid_0's rmse: 0.766158\tvalid_0's l2: 0.586998\n",
      "\u001b[32m[I 2021-10-31 00:01:57,817]\u001b[0m Trial 0 finished with value: 0.7256112969276158 and parameters: {'num_leaves': 144, 'max_depth': 6, 'learning_rate': 0.018468564985034686, 'min_child_samples': 362, 'reg_alpha': 0.03698042909256928, 'min_sum_hessian_in_leaf': 0.35124858518607255, 'reg_lambda': 0.4391155693458137}. Best is trial 0 with value: 0.7256112969276158.\u001b[0m\n",
      "Training until validation scores don't improve for 100 rounds\n"
     ]
    },
    {
     "name": "stderr",
     "output_type": "stream",
     "text": [
      "/home/oleg/miniconda3/envs/tabular/lib/python3.9/site-packages/lightgbm/basic.py:1294: UserWarning: categorical_feature in Dataset is overridden.\n",
      "New categorical_feature is ['plavka_NAPR_ZAD', 'plavka_NMZ', 'plavka_TIPE_GOL']\n",
      "  warnings.warn('categorical_feature in Dataset is overridden.\\n'\n"
     ]
    },
    {
     "name": "stdout",
     "output_type": "stream",
     "text": [
      "Early stopping, best iteration is:\n",
      "[387]\tvalid_0's rmse: 0.674018\tvalid_0's l2: 0.454301\n",
      "Training until validation scores don't improve for 100 rounds\n",
      "[500]\tvalid_0's rmse: 0.709919\tvalid_0's l2: 0.503986\n",
      "Early stopping, best iteration is:\n",
      "[833]\tvalid_0's rmse: 0.704044\tvalid_0's l2: 0.495679\n",
      "Training until validation scores don't improve for 100 rounds\n",
      "[500]\tvalid_0's rmse: 0.721408\tvalid_0's l2: 0.52043\n",
      "Early stopping, best iteration is:\n",
      "[529]\tvalid_0's rmse: 0.721025\tvalid_0's l2: 0.519877\n",
      "Training until validation scores don't improve for 100 rounds\n",
      "[500]\tvalid_0's rmse: 0.671397\tvalid_0's l2: 0.450774\n",
      "Early stopping, best iteration is:\n",
      "[611]\tvalid_0's rmse: 0.670152\tvalid_0's l2: 0.449104\n",
      "Training until validation scores don't improve for 100 rounds\n",
      "[500]\tvalid_0's rmse: 0.757927\tvalid_0's l2: 0.574453\n",
      "Early stopping, best iteration is:\n",
      "[497]\tvalid_0's rmse: 0.757735\tvalid_0's l2: 0.574162\n",
      "\u001b[32m[I 2021-10-31 00:02:02,422]\u001b[0m Trial 1 finished with value: 0.7053949697889078 and parameters: {'num_leaves': 20, 'max_depth': 8, 'learning_rate': 0.015717357564474115, 'min_child_samples': 12, 'reg_alpha': 3.7438093354030024, 'min_sum_hessian_in_leaf': 0.0064754639972032825, 'reg_lambda': 7.102508064894662}. Best is trial 1 with value: 0.7053949697889078.\u001b[0m\n",
      "Training until validation scores don't improve for 100 rounds\n"
     ]
    },
    {
     "name": "stderr",
     "output_type": "stream",
     "text": [
      "/home/oleg/miniconda3/envs/tabular/lib/python3.9/site-packages/lightgbm/basic.py:1294: UserWarning: categorical_feature in Dataset is overridden.\n",
      "New categorical_feature is ['plavka_NAPR_ZAD', 'plavka_NMZ', 'plavka_TIPE_GOL']\n",
      "  warnings.warn('categorical_feature in Dataset is overridden.\\n'\n"
     ]
    },
    {
     "name": "stdout",
     "output_type": "stream",
     "text": [
      "[500]\tvalid_0's rmse: 0.690328\tvalid_0's l2: 0.476553\n",
      "[1000]\tvalid_0's rmse: 0.679646\tvalid_0's l2: 0.461919\n",
      "Early stopping, best iteration is:\n",
      "[1174]\tvalid_0's rmse: 0.67807\tvalid_0's l2: 0.459779\n",
      "Training until validation scores don't improve for 100 rounds\n",
      "[500]\tvalid_0's rmse: 0.745417\tvalid_0's l2: 0.555646\n",
      "[1000]\tvalid_0's rmse: 0.716687\tvalid_0's l2: 0.51364\n",
      "[1500]\tvalid_0's rmse: 0.71303\tvalid_0's l2: 0.508412\n",
      "[2000]\tvalid_0's rmse: 0.710234\tvalid_0's l2: 0.504432\n",
      "Early stopping, best iteration is:\n",
      "[1954]\tvalid_0's rmse: 0.709822\tvalid_0's l2: 0.503847\n",
      "Training until validation scores don't improve for 100 rounds\n",
      "[500]\tvalid_0's rmse: 0.742213\tvalid_0's l2: 0.55088\n",
      "[1000]\tvalid_0's rmse: 0.72273\tvalid_0's l2: 0.522338\n",
      "[1500]\tvalid_0's rmse: 0.718479\tvalid_0's l2: 0.516212\n",
      "Early stopping, best iteration is:\n",
      "[1525]\tvalid_0's rmse: 0.71829\tvalid_0's l2: 0.515941\n",
      "Training until validation scores don't improve for 100 rounds\n",
      "[500]\tvalid_0's rmse: 0.700573\tvalid_0's l2: 0.490802\n",
      "[1000]\tvalid_0's rmse: 0.676559\tvalid_0's l2: 0.457732\n",
      "Early stopping, best iteration is:\n",
      "[1173]\tvalid_0's rmse: 0.675142\tvalid_0's l2: 0.455817\n",
      "Training until validation scores don't improve for 100 rounds\n",
      "[500]\tvalid_0's rmse: 0.787689\tvalid_0's l2: 0.620454\n",
      "[1000]\tvalid_0's rmse: 0.760701\tvalid_0's l2: 0.578665\n",
      "[1500]\tvalid_0's rmse: 0.755006\tvalid_0's l2: 0.570034\n",
      "Early stopping, best iteration is:\n",
      "[1876]\tvalid_0's rmse: 0.752643\tvalid_0's l2: 0.566472\n",
      "\u001b[32m[I 2021-10-31 00:02:09,994]\u001b[0m Trial 2 finished with value: 0.7067933556034808 and parameters: {'num_leaves': 53, 'max_depth': 5, 'learning_rate': 0.005961164422343925, 'min_child_samples': 17, 'reg_alpha': 0.0005152693512737942, 'min_sum_hessian_in_leaf': 0.09771500464287661, 'reg_lambda': 11.242214259868248}. Best is trial 1 with value: 0.7053949697889078.\u001b[0m\n",
      "Training until validation scores don't improve for 100 rounds\n",
      "Early stopping, best iteration is:\n",
      "[31]\tvalid_0's rmse: 0.700024\tvalid_0's l2: 0.490033\n",
      "Training until validation scores don't improve for 100 rounds\n"
     ]
    },
    {
     "name": "stderr",
     "output_type": "stream",
     "text": [
      "/home/oleg/miniconda3/envs/tabular/lib/python3.9/site-packages/lightgbm/basic.py:1294: UserWarning: categorical_feature in Dataset is overridden.\n",
      "New categorical_feature is ['plavka_NAPR_ZAD', 'plavka_NMZ', 'plavka_TIPE_GOL']\n",
      "  warnings.warn('categorical_feature in Dataset is overridden.\\n'\n"
     ]
    },
    {
     "name": "stdout",
     "output_type": "stream",
     "text": [
      "Early stopping, best iteration is:\n",
      "[51]\tvalid_0's rmse: 0.728367\tvalid_0's l2: 0.530518\n",
      "Training until validation scores don't improve for 100 rounds\n",
      "Early stopping, best iteration is:\n",
      "[30]\tvalid_0's rmse: 0.737028\tvalid_0's l2: 0.543211\n",
      "Training until validation scores don't improve for 100 rounds\n",
      "Early stopping, best iteration is:\n",
      "[51]\tvalid_0's rmse: 0.690315\tvalid_0's l2: 0.476535\n",
      "Training until validation scores don't improve for 100 rounds\n",
      "Early stopping, best iteration is:\n",
      "[105]\tvalid_0's rmse: 0.788171\tvalid_0's l2: 0.621213\n",
      "\u001b[32m[I 2021-10-31 00:02:10,401]\u001b[0m Trial 3 finished with value: 0.7287810227734666 and parameters: {'num_leaves': 83, 'max_depth': 8, 'learning_rate': 0.28962086179251767, 'min_child_samples': 180, 'reg_alpha': 0.23896390077605612, 'min_sum_hessian_in_leaf': 0.0637464118579985, 'reg_lambda': 0.0037450165976607923}. Best is trial 1 with value: 0.7053949697889078.\u001b[0m\n",
      "Training until validation scores don't improve for 100 rounds\n",
      "Early stopping, best iteration is:\n",
      "[2]\tvalid_0's rmse: 0.778318\tvalid_0's l2: 0.605779\n",
      "Training until validation scores don't improve for 100 rounds\n",
      "Early stopping, best iteration is:\n",
      "[6]\tvalid_0's rmse: 0.777035\tvalid_0's l2: 0.603784\n",
      "Training until validation scores don't improve for 100 rounds\n"
     ]
    },
    {
     "name": "stderr",
     "output_type": "stream",
     "text": [
      "/home/oleg/miniconda3/envs/tabular/lib/python3.9/site-packages/lightgbm/basic.py:1294: UserWarning: categorical_feature in Dataset is overridden.\n",
      "New categorical_feature is ['plavka_NAPR_ZAD', 'plavka_NMZ', 'plavka_TIPE_GOL']\n",
      "  warnings.warn('categorical_feature in Dataset is overridden.\\n'\n"
     ]
    },
    {
     "name": "stdout",
     "output_type": "stream",
     "text": [
      "Early stopping, best iteration is:\n",
      "[2]\tvalid_0's rmse: 0.800086\tvalid_0's l2: 0.640137\n",
      "Training until validation scores don't improve for 100 rounds\n",
      "Early stopping, best iteration is:\n",
      "[7]\tvalid_0's rmse: 0.8053\tvalid_0's l2: 0.648509\n",
      "Training until validation scores don't improve for 100 rounds\n",
      "Early stopping, best iteration is:\n",
      "[3]\tvalid_0's rmse: 0.805452\tvalid_0's l2: 0.648753\n",
      "\u001b[32m[I 2021-10-31 00:02:10,844]\u001b[0m Trial 4 finished with value: 0.7932383815711743 and parameters: {'num_leaves': 25, 'max_depth': 6, 'learning_rate': 0.8315733488019297, 'min_child_samples': 56, 'reg_alpha': 0.00014833272428945346, 'min_sum_hessian_in_leaf': 7.536773774926558, 'reg_lambda': 0.00014817369600825248}. Best is trial 1 with value: 0.7053949697889078.\u001b[0m\n",
      "Training until validation scores don't improve for 100 rounds\n"
     ]
    },
    {
     "name": "stderr",
     "output_type": "stream",
     "text": [
      "/home/oleg/miniconda3/envs/tabular/lib/python3.9/site-packages/lightgbm/basic.py:1294: UserWarning: categorical_feature in Dataset is overridden.\n",
      "New categorical_feature is ['plavka_NAPR_ZAD', 'plavka_NMZ', 'plavka_TIPE_GOL']\n",
      "  warnings.warn('categorical_feature in Dataset is overridden.\\n'\n"
     ]
    },
    {
     "name": "stdout",
     "output_type": "stream",
     "text": [
      "[500]\tvalid_0's rmse: 0.75895\tvalid_0's l2: 0.576005\n",
      "[1000]\tvalid_0's rmse: 0.715088\tvalid_0's l2: 0.511351\n",
      "[1500]\tvalid_0's rmse: 0.702555\tvalid_0's l2: 0.493584\n",
      "[2000]\tvalid_0's rmse: 0.698239\tvalid_0's l2: 0.487538\n",
      "Early stopping, best iteration is:\n",
      "[2024]\tvalid_0's rmse: 0.698212\tvalid_0's l2: 0.4875\n",
      "Training until validation scores don't improve for 100 rounds\n",
      "[500]\tvalid_0's rmse: 0.844227\tvalid_0's l2: 0.712719\n",
      "[1000]\tvalid_0's rmse: 0.784678\tvalid_0's l2: 0.615719\n",
      "[1500]\tvalid_0's rmse: 0.766799\tvalid_0's l2: 0.58798\n",
      "[2000]\tvalid_0's rmse: 0.757584\tvalid_0's l2: 0.573934\n",
      "Early stopping, best iteration is:\n",
      "[2008]\tvalid_0's rmse: 0.757514\tvalid_0's l2: 0.573828\n",
      "Training until validation scores don't improve for 100 rounds\n",
      "[500]\tvalid_0's rmse: 0.807547\tvalid_0's l2: 0.652132\n",
      "[1000]\tvalid_0's rmse: 0.765309\tvalid_0's l2: 0.585698\n",
      "[1500]\tvalid_0's rmse: 0.747392\tvalid_0's l2: 0.558594\n",
      "[2000]\tvalid_0's rmse: 0.73943\tvalid_0's l2: 0.546756\n",
      "Early stopping, best iteration is:\n",
      "[2055]\tvalid_0's rmse: 0.739028\tvalid_0's l2: 0.546162\n",
      "Training until validation scores don't improve for 100 rounds\n",
      "[500]\tvalid_0's rmse: 0.825853\tvalid_0's l2: 0.682033\n",
      "[1000]\tvalid_0's rmse: 0.766917\tvalid_0's l2: 0.588162\n",
      "[1500]\tvalid_0's rmse: 0.742784\tvalid_0's l2: 0.551728\n",
      "[2000]\tvalid_0's rmse: 0.732111\tvalid_0's l2: 0.535987\n",
      "Early stopping, best iteration is:\n",
      "[1934]\tvalid_0's rmse: 0.732111\tvalid_0's l2: 0.535987\n",
      "Training until validation scores don't improve for 100 rounds\n",
      "[500]\tvalid_0's rmse: 0.872961\tvalid_0's l2: 0.762062\n",
      "[1000]\tvalid_0's rmse: 0.829224\tvalid_0's l2: 0.687612\n",
      "[1500]\tvalid_0's rmse: 0.813272\tvalid_0's l2: 0.661411\n",
      "Early stopping, best iteration is:\n",
      "[1836]\tvalid_0's rmse: 0.808894\tvalid_0's l2: 0.65431\n",
      "\u001b[32m[I 2021-10-31 00:02:19,029]\u001b[0m Trial 5 finished with value: 0.7471518350233739 and parameters: {'num_leaves': 94, 'max_depth': 11, 'learning_rate': 0.0034173068826651963, 'min_child_samples': 17, 'reg_alpha': 38.327900235614344, 'min_sum_hessian_in_leaf': 0.43522941870568627, 'reg_lambda': 0.0004757791493210762}. Best is trial 1 with value: 0.7053949697889078.\u001b[0m\n",
      "Training until validation scores don't improve for 100 rounds\n",
      "Early stopping, best iteration is:\n",
      "[53]\tvalid_0's rmse: 0.739683\tvalid_0's l2: 0.547132\n",
      "Training until validation scores don't improve for 100 rounds\n",
      "Early stopping, best iteration is:\n",
      "[131]\tvalid_0's rmse: 0.737274\tvalid_0's l2: 0.543572\n",
      "Training until validation scores don't improve for 100 rounds\n"
     ]
    },
    {
     "name": "stderr",
     "output_type": "stream",
     "text": [
      "/home/oleg/miniconda3/envs/tabular/lib/python3.9/site-packages/lightgbm/basic.py:1294: UserWarning: categorical_feature in Dataset is overridden.\n",
      "New categorical_feature is ['plavka_NAPR_ZAD', 'plavka_NMZ', 'plavka_TIPE_GOL']\n",
      "  warnings.warn('categorical_feature in Dataset is overridden.\\n'\n"
     ]
    },
    {
     "name": "stdout",
     "output_type": "stream",
     "text": [
      "Early stopping, best iteration is:\n",
      "[86]\tvalid_0's rmse: 0.751031\tvalid_0's l2: 0.564048\n",
      "Training until validation scores don't improve for 100 rounds\n",
      "Early stopping, best iteration is:\n",
      "[109]\tvalid_0's rmse: 0.703875\tvalid_0's l2: 0.49544\n",
      "Training until validation scores don't improve for 100 rounds\n",
      "Early stopping, best iteration is:\n",
      "[212]\tvalid_0's rmse: 0.771461\tvalid_0's l2: 0.595153\n",
      "\u001b[32m[I 2021-10-31 00:02:19,308]\u001b[0m Trial 6 finished with value: 0.7406650071563032 and parameters: {'num_leaves': 27, 'max_depth': 11, 'learning_rate': 0.529010473421106, 'min_child_samples': 436, 'reg_alpha': 4.6462281508194315e-05, 'min_sum_hessian_in_leaf': 0.0010015674617248108, 'reg_lambda': 0.8063467585609245}. Best is trial 1 with value: 0.7053949697889078.\u001b[0m\n",
      "Training until validation scores don't improve for 100 rounds\n"
     ]
    },
    {
     "name": "stderr",
     "output_type": "stream",
     "text": [
      "/home/oleg/miniconda3/envs/tabular/lib/python3.9/site-packages/lightgbm/basic.py:1294: UserWarning: categorical_feature in Dataset is overridden.\n",
      "New categorical_feature is ['plavka_NAPR_ZAD', 'plavka_NMZ', 'plavka_TIPE_GOL']\n",
      "  warnings.warn('categorical_feature in Dataset is overridden.\\n'\n"
     ]
    },
    {
     "name": "stdout",
     "output_type": "stream",
     "text": [
      "[500]\tvalid_0's rmse: 0.824763\tvalid_0's l2: 0.680235\n",
      "[1000]\tvalid_0's rmse: 0.780471\tvalid_0's l2: 0.609135\n",
      "[1500]\tvalid_0's rmse: 0.758396\tvalid_0's l2: 0.575165\n",
      "[2000]\tvalid_0's rmse: 0.745934\tvalid_0's l2: 0.556418\n",
      "[2500]\tvalid_0's rmse: 0.738428\tvalid_0's l2: 0.545276\n",
      "[3000]\tvalid_0's rmse: 0.733803\tvalid_0's l2: 0.538467\n",
      "Early stopping, best iteration is:\n",
      "[3309]\tvalid_0's rmse: 0.731711\tvalid_0's l2: 0.535401\n",
      "Training until validation scores don't improve for 100 rounds\n",
      "[500]\tvalid_0's rmse: 0.909517\tvalid_0's l2: 0.827221\n",
      "[1000]\tvalid_0's rmse: 0.85986\tvalid_0's l2: 0.73936\n",
      "[1500]\tvalid_0's rmse: 0.833638\tvalid_0's l2: 0.694952\n",
      "[2000]\tvalid_0's rmse: 0.817561\tvalid_0's l2: 0.668406\n",
      "[2500]\tvalid_0's rmse: 0.805926\tvalid_0's l2: 0.649517\n",
      "[3000]\tvalid_0's rmse: 0.798253\tvalid_0's l2: 0.637208\n",
      "Early stopping, best iteration is:\n",
      "[3388]\tvalid_0's rmse: 0.793925\tvalid_0's l2: 0.630317\n",
      "Training until validation scores don't improve for 100 rounds\n",
      "[500]\tvalid_0's rmse: 0.86569\tvalid_0's l2: 0.749418\n",
      "[1000]\tvalid_0's rmse: 0.832335\tvalid_0's l2: 0.692781\n",
      "[1500]\tvalid_0's rmse: 0.816214\tvalid_0's l2: 0.666205\n",
      "[2000]\tvalid_0's rmse: 0.804852\tvalid_0's l2: 0.647787\n",
      "[2500]\tvalid_0's rmse: 0.7962\tvalid_0's l2: 0.633935\n",
      "[3000]\tvalid_0's rmse: 0.79007\tvalid_0's l2: 0.62421\n",
      "[3500]\tvalid_0's rmse: 0.786202\tvalid_0's l2: 0.618113\n",
      "Early stopping, best iteration is:\n",
      "[3472]\tvalid_0's rmse: 0.786202\tvalid_0's l2: 0.618113\n",
      "Training until validation scores don't improve for 100 rounds\n",
      "[500]\tvalid_0's rmse: 0.892376\tvalid_0's l2: 0.796335\n",
      "[1000]\tvalid_0's rmse: 0.840307\tvalid_0's l2: 0.706116\n",
      "[1500]\tvalid_0's rmse: 0.812291\tvalid_0's l2: 0.659817\n",
      "[2000]\tvalid_0's rmse: 0.794324\tvalid_0's l2: 0.63095\n",
      "[2500]\tvalid_0's rmse: 0.782547\tvalid_0's l2: 0.61238\n",
      "[3000]\tvalid_0's rmse: 0.774664\tvalid_0's l2: 0.600104\n",
      "Early stopping, best iteration is:\n",
      "[3260]\tvalid_0's rmse: 0.77165\tvalid_0's l2: 0.595444\n",
      "Training until validation scores don't improve for 100 rounds\n",
      "[500]\tvalid_0's rmse: 0.931987\tvalid_0's l2: 0.868601\n",
      "[1000]\tvalid_0's rmse: 0.887523\tvalid_0's l2: 0.787697\n",
      "[1500]\tvalid_0's rmse: 0.865761\tvalid_0's l2: 0.749543\n",
      "[2000]\tvalid_0's rmse: 0.852905\tvalid_0's l2: 0.727447\n",
      "[2500]\tvalid_0's rmse: 0.842947\tvalid_0's l2: 0.71056\n",
      "[3000]\tvalid_0's rmse: 0.83722\tvalid_0's l2: 0.700938\n",
      "Early stopping, best iteration is:\n",
      "[3249]\tvalid_0's rmse: 0.83479\tvalid_0's l2: 0.696875\n",
      "\u001b[32m[I 2021-10-31 00:02:24,258]\u001b[0m Trial 7 finished with value: 0.783655775782174 and parameters: {'num_leaves': 161, 'max_depth': 12, 'learning_rate': 0.0025369746242248302, 'min_child_samples': 220, 'reg_alpha': 64.8753017165035, 'min_sum_hessian_in_leaf': 0.2905651611881674, 'reg_lambda': 0.0001787612403575043}. Best is trial 1 with value: 0.7053949697889078.\u001b[0m\n",
      "Training until validation scores don't improve for 100 rounds\n"
     ]
    },
    {
     "name": "stderr",
     "output_type": "stream",
     "text": [
      "/home/oleg/miniconda3/envs/tabular/lib/python3.9/site-packages/lightgbm/basic.py:1294: UserWarning: categorical_feature in Dataset is overridden.\n",
      "New categorical_feature is ['plavka_NAPR_ZAD', 'plavka_NMZ', 'plavka_TIPE_GOL']\n",
      "  warnings.warn('categorical_feature in Dataset is overridden.\\n'\n"
     ]
    },
    {
     "name": "stdout",
     "output_type": "stream",
     "text": [
      "[500]\tvalid_0's rmse: 0.6972\tvalid_0's l2: 0.486087\n",
      "[1000]\tvalid_0's rmse: 0.673194\tvalid_0's l2: 0.45319\n",
      "Early stopping, best iteration is:\n",
      "[1216]\tvalid_0's rmse: 0.670744\tvalid_0's l2: 0.449897\n",
      "Training until validation scores don't improve for 100 rounds\n",
      "[500]\tvalid_0's rmse: 0.771741\tvalid_0's l2: 0.595584\n",
      "[1000]\tvalid_0's rmse: 0.719919\tvalid_0's l2: 0.518283\n",
      "[1500]\tvalid_0's rmse: 0.709369\tvalid_0's l2: 0.503204\n",
      "[2000]\tvalid_0's rmse: 0.703449\tvalid_0's l2: 0.494841\n",
      "[2500]\tvalid_0's rmse: 0.700325\tvalid_0's l2: 0.490455\n",
      "[3000]\tvalid_0's rmse: 0.698705\tvalid_0's l2: 0.488189\n",
      "[3500]\tvalid_0's rmse: 0.696368\tvalid_0's l2: 0.484928\n",
      "[4000]\tvalid_0's rmse: 0.694406\tvalid_0's l2: 0.4822\n",
      "[4500]\tvalid_0's rmse: 0.693578\tvalid_0's l2: 0.48105\n",
      "[5000]\tvalid_0's rmse: 0.692234\tvalid_0's l2: 0.479188\n",
      "[5500]\tvalid_0's rmse: 0.691353\tvalid_0's l2: 0.477969\n",
      "Early stopping, best iteration is:\n",
      "[5772]\tvalid_0's rmse: 0.691023\tvalid_0's l2: 0.477513\n",
      "Training until validation scores don't improve for 100 rounds\n",
      "[500]\tvalid_0's rmse: 0.765033\tvalid_0's l2: 0.585275\n",
      "[1000]\tvalid_0's rmse: 0.734705\tvalid_0's l2: 0.539791\n",
      "[1500]\tvalid_0's rmse: 0.731251\tvalid_0's l2: 0.534728\n",
      "Early stopping, best iteration is:\n",
      "[1703]\tvalid_0's rmse: 0.730683\tvalid_0's l2: 0.533898\n",
      "Training until validation scores don't improve for 100 rounds\n",
      "[500]\tvalid_0's rmse: 0.727759\tvalid_0's l2: 0.529634\n",
      "[1000]\tvalid_0's rmse: 0.679029\tvalid_0's l2: 0.461081\n",
      "[1500]\tvalid_0's rmse: 0.669355\tvalid_0's l2: 0.448037\n",
      "Early stopping, best iteration is:\n",
      "[1787]\tvalid_0's rmse: 0.667419\tvalid_0's l2: 0.445448\n",
      "Training until validation scores don't improve for 100 rounds\n",
      "[500]\tvalid_0's rmse: 0.804198\tvalid_0's l2: 0.646734\n",
      "[1000]\tvalid_0's rmse: 0.778992\tvalid_0's l2: 0.606828\n",
      "[1500]\tvalid_0's rmse: 0.769965\tvalid_0's l2: 0.592845\n",
      "[2000]\tvalid_0's rmse: 0.763464\tvalid_0's l2: 0.582877\n",
      "[2500]\tvalid_0's rmse: 0.760299\tvalid_0's l2: 0.578054\n",
      "Early stopping, best iteration is:\n",
      "[2565]\tvalid_0's rmse: 0.759699\tvalid_0's l2: 0.577142\n",
      "\u001b[32m[I 2021-10-31 00:02:48,995]\u001b[0m Trial 8 finished with value: 0.7039134630088435 and parameters: {'num_leaves': 44, 'max_depth': 12, 'learning_rate': 0.00298838149620896, 'min_child_samples': 28, 'reg_alpha': 0.0006282793811088305, 'min_sum_hessian_in_leaf': 0.07950603134241922, 'reg_lambda': 0.5514700639986013}. Best is trial 8 with value: 0.7039134630088435.\u001b[0m\n",
      "Training until validation scores don't improve for 100 rounds\n"
     ]
    },
    {
     "name": "stderr",
     "output_type": "stream",
     "text": [
      "/home/oleg/miniconda3/envs/tabular/lib/python3.9/site-packages/lightgbm/basic.py:1294: UserWarning: categorical_feature in Dataset is overridden.\n",
      "New categorical_feature is ['plavka_NAPR_ZAD', 'plavka_NMZ', 'plavka_TIPE_GOL']\n",
      "  warnings.warn('categorical_feature in Dataset is overridden.\\n'\n"
     ]
    },
    {
     "name": "stdout",
     "output_type": "stream",
     "text": [
      "[500]\tvalid_0's rmse: 0.801832\tvalid_0's l2: 0.642935\n",
      "[1000]\tvalid_0's rmse: 0.760677\tvalid_0's l2: 0.578629\n",
      "[1500]\tvalid_0's rmse: 0.74585\tvalid_0's l2: 0.556292\n",
      "[2000]\tvalid_0's rmse: 0.737034\tvalid_0's l2: 0.543219\n",
      "Early stopping, best iteration is:\n",
      "[2181]\tvalid_0's rmse: 0.735204\tvalid_0's l2: 0.540524\n",
      "Training until validation scores don't improve for 100 rounds\n",
      "[500]\tvalid_0's rmse: 0.883336\tvalid_0's l2: 0.780282\n",
      "[1000]\tvalid_0's rmse: 0.840931\tvalid_0's l2: 0.707164\n",
      "[1500]\tvalid_0's rmse: 0.822063\tvalid_0's l2: 0.675787\n",
      "[2000]\tvalid_0's rmse: 0.811502\tvalid_0's l2: 0.658536\n",
      "Early stopping, best iteration is:\n",
      "[2319]\tvalid_0's rmse: 0.807079\tvalid_0's l2: 0.651376\n",
      "Training until validation scores don't improve for 100 rounds\n",
      "[500]\tvalid_0's rmse: 0.845801\tvalid_0's l2: 0.71538\n",
      "[1000]\tvalid_0's rmse: 0.817059\tvalid_0's l2: 0.667585\n",
      "[1500]\tvalid_0's rmse: 0.804433\tvalid_0's l2: 0.647113\n",
      "[2000]\tvalid_0's rmse: 0.796952\tvalid_0's l2: 0.635132\n",
      "Early stopping, best iteration is:\n",
      "[2381]\tvalid_0's rmse: 0.793117\tvalid_0's l2: 0.629035\n",
      "Training until validation scores don't improve for 100 rounds\n",
      "[500]\tvalid_0's rmse: 0.865967\tvalid_0's l2: 0.749898\n",
      "[1000]\tvalid_0's rmse: 0.821994\tvalid_0's l2: 0.675675\n",
      "[1500]\tvalid_0's rmse: 0.800076\tvalid_0's l2: 0.640121\n",
      "[2000]\tvalid_0's rmse: 0.788033\tvalid_0's l2: 0.620997\n",
      "Early stopping, best iteration is:\n",
      "[2280]\tvalid_0's rmse: 0.783318\tvalid_0's l2: 0.613588\n",
      "Training until validation scores don't improve for 100 rounds\n",
      "[500]\tvalid_0's rmse: 0.916904\tvalid_0's l2: 0.840713\n",
      "[1000]\tvalid_0's rmse: 0.878402\tvalid_0's l2: 0.771591\n",
      "[1500]\tvalid_0's rmse: 0.861323\tvalid_0's l2: 0.741878\n",
      "[2000]\tvalid_0's rmse: 0.852787\tvalid_0's l2: 0.727245\n",
      "Early stopping, best iteration is:\n",
      "[2303]\tvalid_0's rmse: 0.850117\tvalid_0's l2: 0.7227\n",
      "\u001b[32m[I 2021-10-31 00:02:51,496]\u001b[0m Trial 9 finished with value: 0.7937671182749129 and parameters: {'num_leaves': 71, 'max_depth': 7, 'learning_rate': 0.004545330224576855, 'min_child_samples': 364, 'reg_alpha': 69.91427869270115, 'min_sum_hessian_in_leaf': 0.40847983450913933, 'reg_lambda': 3.721628093599254e-05}. Best is trial 8 with value: 0.7039134630088435.\u001b[0m\n",
      "Training until validation scores don't improve for 100 rounds\n"
     ]
    },
    {
     "name": "stderr",
     "output_type": "stream",
     "text": [
      "/home/oleg/miniconda3/envs/tabular/lib/python3.9/site-packages/lightgbm/basic.py:1294: UserWarning: categorical_feature in Dataset is overridden.\n",
      "New categorical_feature is ['plavka_NAPR_ZAD', 'plavka_NMZ', 'plavka_TIPE_GOL']\n",
      "  warnings.warn('categorical_feature in Dataset is overridden.\\n'\n"
     ]
    },
    {
     "name": "stdout",
     "output_type": "stream",
     "text": [
      "Early stopping, best iteration is:\n",
      "[48]\tvalid_0's rmse: 0.688609\tvalid_0's l2: 0.474182\n",
      "Training until validation scores don't improve for 100 rounds\n",
      "Early stopping, best iteration is:\n",
      "[58]\tvalid_0's rmse: 0.708251\tvalid_0's l2: 0.501619\n",
      "Training until validation scores don't improve for 100 rounds\n",
      "Early stopping, best iteration is:\n",
      "[57]\tvalid_0's rmse: 0.727858\tvalid_0's l2: 0.529778\n",
      "Training until validation scores don't improve for 100 rounds\n",
      "Early stopping, best iteration is:\n",
      "[113]\tvalid_0's rmse: 0.676889\tvalid_0's l2: 0.458179\n",
      "Training until validation scores don't improve for 100 rounds\n",
      "Early stopping, best iteration is:\n",
      "[84]\tvalid_0's rmse: 0.760398\tvalid_0's l2: 0.578205\n",
      "\u001b[32m[I 2021-10-31 00:02:52,519]\u001b[0m Trial 10 finished with value: 0.7124010510041492 and parameters: {'num_leaves': 41, 'max_depth': 10, 'learning_rate': 0.0988993914818157, 'min_child_samples': 53, 'reg_alpha': 3.2498537779074094e-06, 'min_sum_hessian_in_leaf': 0.012651872228476734, 'reg_lambda': 0.05974618736870295}. Best is trial 8 with value: 0.7039134630088435.\u001b[0m\n"
     ]
    },
    {
     "name": "stderr",
     "output_type": "stream",
     "text": [
      "/home/oleg/miniconda3/envs/tabular/lib/python3.9/site-packages/lightgbm/basic.py:1294: UserWarning: categorical_feature in Dataset is overridden.\n",
      "New categorical_feature is ['plavka_NAPR_ZAD', 'plavka_NMZ', 'plavka_TIPE_GOL']\n",
      "  warnings.warn('categorical_feature in Dataset is overridden.\\n'\n"
     ]
    },
    {
     "name": "stdout",
     "output_type": "stream",
     "text": [
      "Training until validation scores don't improve for 100 rounds\n",
      "[500]\tvalid_0's rmse: 0.850855\tvalid_0's l2: 0.723955\n",
      "[1000]\tvalid_0's rmse: 0.78924\tvalid_0's l2: 0.6229\n",
      "[1500]\tvalid_0's rmse: 0.74949\tvalid_0's l2: 0.561736\n",
      "[2000]\tvalid_0's rmse: 0.72747\tvalid_0's l2: 0.529213\n",
      "[2500]\tvalid_0's rmse: 0.710777\tvalid_0's l2: 0.505204\n",
      "[3000]\tvalid_0's rmse: 0.698708\tvalid_0's l2: 0.488192\n",
      "[3500]\tvalid_0's rmse: 0.690306\tvalid_0's l2: 0.476523\n",
      "[4000]\tvalid_0's rmse: 0.685004\tvalid_0's l2: 0.46923\n",
      "[4500]\tvalid_0's rmse: 0.681491\tvalid_0's l2: 0.464431\n",
      "[5000]\tvalid_0's rmse: 0.68014\tvalid_0's l2: 0.46259\n",
      "Early stopping, best iteration is:\n",
      "[4976]\tvalid_0's rmse: 0.68009\tvalid_0's l2: 0.462523\n",
      "Training until validation scores don't improve for 100 rounds\n",
      "[500]\tvalid_0's rmse: 0.929745\tvalid_0's l2: 0.864426\n",
      "[1000]\tvalid_0's rmse: 0.870855\tvalid_0's l2: 0.758388\n",
      "[1500]\tvalid_0's rmse: 0.824722\tvalid_0's l2: 0.680166\n",
      "[2000]\tvalid_0's rmse: 0.794399\tvalid_0's l2: 0.63107\n",
      "[2500]\tvalid_0's rmse: 0.773651\tvalid_0's l2: 0.598536\n",
      "[3000]\tvalid_0's rmse: 0.759237\tvalid_0's l2: 0.57644\n",
      "[3500]\tvalid_0's rmse: 0.748115\tvalid_0's l2: 0.559676\n",
      "[4000]\tvalid_0's rmse: 0.739065\tvalid_0's l2: 0.546217\n",
      "[4500]\tvalid_0's rmse: 0.731928\tvalid_0's l2: 0.535718\n",
      "[5000]\tvalid_0's rmse: 0.727585\tvalid_0's l2: 0.52938\n",
      "[5500]\tvalid_0's rmse: 0.724976\tvalid_0's l2: 0.52559\n",
      "[6000]\tvalid_0's rmse: 0.722738\tvalid_0's l2: 0.522351\n",
      "[6500]\tvalid_0's rmse: 0.720933\tvalid_0's l2: 0.519744\n",
      "[7000]\tvalid_0's rmse: 0.719486\tvalid_0's l2: 0.51766\n",
      "[7500]\tvalid_0's rmse: 0.71758\tvalid_0's l2: 0.514921\n",
      "[8000]\tvalid_0's rmse: 0.716107\tvalid_0's l2: 0.512809\n",
      "Early stopping, best iteration is:\n",
      "[8052]\tvalid_0's rmse: 0.715987\tvalid_0's l2: 0.512638\n",
      "Training until validation scores don't improve for 100 rounds\n",
      "[500]\tvalid_0's rmse: 0.886876\tvalid_0's l2: 0.78655\n",
      "[1000]\tvalid_0's rmse: 0.836027\tvalid_0's l2: 0.69894\n",
      "[1500]\tvalid_0's rmse: 0.802108\tvalid_0's l2: 0.643377\n",
      "[2000]\tvalid_0's rmse: 0.779186\tvalid_0's l2: 0.60713\n",
      "[2500]\tvalid_0's rmse: 0.764824\tvalid_0's l2: 0.584955\n",
      "[3000]\tvalid_0's rmse: 0.752133\tvalid_0's l2: 0.565705\n",
      "[3500]\tvalid_0's rmse: 0.74132\tvalid_0's l2: 0.549555\n",
      "[4000]\tvalid_0's rmse: 0.73366\tvalid_0's l2: 0.538257\n",
      "[4500]\tvalid_0's rmse: 0.728331\tvalid_0's l2: 0.530465\n",
      "[5000]\tvalid_0's rmse: 0.724677\tvalid_0's l2: 0.525156\n",
      "[5500]\tvalid_0's rmse: 0.722303\tvalid_0's l2: 0.521722\n",
      "Early stopping, best iteration is:\n",
      "[5479]\tvalid_0's rmse: 0.722257\tvalid_0's l2: 0.521655\n",
      "Training until validation scores don't improve for 100 rounds\n",
      "[500]\tvalid_0's rmse: 0.926328\tvalid_0's l2: 0.858084\n",
      "[1000]\tvalid_0's rmse: 0.857849\tvalid_0's l2: 0.735906\n",
      "[1500]\tvalid_0's rmse: 0.811555\tvalid_0's l2: 0.658622\n",
      "[2000]\tvalid_0's rmse: 0.777828\tvalid_0's l2: 0.605016\n",
      "[2500]\tvalid_0's rmse: 0.755266\tvalid_0's l2: 0.570427\n",
      "[3000]\tvalid_0's rmse: 0.737155\tvalid_0's l2: 0.543397\n",
      "[3500]\tvalid_0's rmse: 0.722599\tvalid_0's l2: 0.52215\n",
      "[4000]\tvalid_0's rmse: 0.711049\tvalid_0's l2: 0.50559\n",
      "[4500]\tvalid_0's rmse: 0.702011\tvalid_0's l2: 0.492819\n",
      "[5000]\tvalid_0's rmse: 0.696454\tvalid_0's l2: 0.485048\n",
      "[5500]\tvalid_0's rmse: 0.69192\tvalid_0's l2: 0.478753\n",
      "[6000]\tvalid_0's rmse: 0.688289\tvalid_0's l2: 0.473741\n",
      "[6500]\tvalid_0's rmse: 0.685497\tvalid_0's l2: 0.469907\n",
      "[7000]\tvalid_0's rmse: 0.682693\tvalid_0's l2: 0.46607\n",
      "[7500]\tvalid_0's rmse: 0.680722\tvalid_0's l2: 0.463383\n",
      "[8000]\tvalid_0's rmse: 0.678745\tvalid_0's l2: 0.460695\n",
      "[8500]\tvalid_0's rmse: 0.677105\tvalid_0's l2: 0.458471\n",
      "[9000]\tvalid_0's rmse: 0.675783\tvalid_0's l2: 0.456682\n",
      "[9500]\tvalid_0's rmse: 0.674511\tvalid_0's l2: 0.454966\n",
      "[10000]\tvalid_0's rmse: 0.673686\tvalid_0's l2: 0.453852\n",
      "Did not meet early stopping. Best iteration is:\n",
      "[10000]\tvalid_0's rmse: 0.673686\tvalid_0's l2: 0.453852\n",
      "Training until validation scores don't improve for 100 rounds\n",
      "[500]\tvalid_0's rmse: 0.961404\tvalid_0's l2: 0.924298\n",
      "[1000]\tvalid_0's rmse: 0.905523\tvalid_0's l2: 0.819971\n",
      "[1500]\tvalid_0's rmse: 0.869158\tvalid_0's l2: 0.755436\n",
      "[2000]\tvalid_0's rmse: 0.845802\tvalid_0's l2: 0.715382\n",
      "[2500]\tvalid_0's rmse: 0.829321\tvalid_0's l2: 0.687773\n",
      "[3000]\tvalid_0's rmse: 0.818676\tvalid_0's l2: 0.67023\n",
      "[3500]\tvalid_0's rmse: 0.811063\tvalid_0's l2: 0.657823\n",
      "[4000]\tvalid_0's rmse: 0.803978\tvalid_0's l2: 0.64638\n",
      "[4500]\tvalid_0's rmse: 0.797091\tvalid_0's l2: 0.635353\n",
      "[5000]\tvalid_0's rmse: 0.792873\tvalid_0's l2: 0.628648\n",
      "[5500]\tvalid_0's rmse: 0.788937\tvalid_0's l2: 0.622422\n",
      "[6000]\tvalid_0's rmse: 0.785087\tvalid_0's l2: 0.616362\n",
      "[6500]\tvalid_0's rmse: 0.781316\tvalid_0's l2: 0.610454\n",
      "[7000]\tvalid_0's rmse: 0.777727\tvalid_0's l2: 0.604859\n",
      "[7500]\tvalid_0's rmse: 0.775275\tvalid_0's l2: 0.601051\n",
      "[8000]\tvalid_0's rmse: 0.772661\tvalid_0's l2: 0.597005\n",
      "[8500]\tvalid_0's rmse: 0.771223\tvalid_0's l2: 0.594785\n",
      "[9000]\tvalid_0's rmse: 0.769754\tvalid_0's l2: 0.592522\n",
      "[9500]\tvalid_0's rmse: 0.768646\tvalid_0's l2: 0.590816\n",
      "[10000]\tvalid_0's rmse: 0.767732\tvalid_0's l2: 0.589412\n",
      "Did not meet early stopping. Best iteration is:\n",
      "[9992]\tvalid_0's rmse: 0.76773\tvalid_0's l2: 0.58941\n",
      "\u001b[32m[I 2021-10-31 00:03:38,339]\u001b[0m Trial 11 finished with value: 0.711950043723944 and parameters: {'num_leaves': 16, 'max_depth': 9, 'learning_rate': 0.0010116335428481417, 'min_child_samples': 13, 'reg_alpha': 0.6293791577594969, 'min_sum_hessian_in_leaf': 0.005687342627007652, 'reg_lambda': 65.36586726144247}. Best is trial 8 with value: 0.7039134630088435.\u001b[0m\n",
      "Training until validation scores don't improve for 100 rounds\n"
     ]
    },
    {
     "name": "stderr",
     "output_type": "stream",
     "text": [
      "/home/oleg/miniconda3/envs/tabular/lib/python3.9/site-packages/lightgbm/basic.py:1294: UserWarning: categorical_feature in Dataset is overridden.\n",
      "New categorical_feature is ['plavka_NAPR_ZAD', 'plavka_NMZ', 'plavka_TIPE_GOL']\n",
      "  warnings.warn('categorical_feature in Dataset is overridden.\\n'\n"
     ]
    },
    {
     "name": "stdout",
     "output_type": "stream",
     "text": [
      "Early stopping, best iteration is:\n",
      "[184]\tvalid_0's rmse: 0.678722\tvalid_0's l2: 0.460663\n",
      "Training until validation scores don't improve for 100 rounds\n",
      "[500]\tvalid_0's rmse: 0.695842\tvalid_0's l2: 0.484197\n",
      "Early stopping, best iteration is:\n",
      "[875]\tvalid_0's rmse: 0.693526\tvalid_0's l2: 0.480978\n",
      "Training until validation scores don't improve for 100 rounds\n",
      "Early stopping, best iteration is:\n",
      "[222]\tvalid_0's rmse: 0.733934\tvalid_0's l2: 0.538659\n",
      "Training until validation scores don't improve for 100 rounds\n",
      "[500]\tvalid_0's rmse: 0.665588\tvalid_0's l2: 0.443008\n",
      "Early stopping, best iteration is:\n",
      "[550]\tvalid_0's rmse: 0.664536\tvalid_0's l2: 0.441609\n",
      "Training until validation scores don't improve for 100 rounds\n",
      "Early stopping, best iteration is:\n",
      "[397]\tvalid_0's rmse: 0.75052\tvalid_0's l2: 0.563281\n",
      "\u001b[32m[I 2021-10-31 00:03:41,810]\u001b[0m Trial 12 finished with value: 0.7042476946152204 and parameters: {'num_leaves': 33, 'max_depth': 9, 'learning_rate': 0.02430084078957652, 'min_child_samples': 39, 'reg_alpha': 0.0036862300328545624, 'min_sum_hessian_in_leaf': 0.017070780023467392, 'reg_lambda': 1.7579781657607931}. Best is trial 8 with value: 0.7039134630088435.\u001b[0m\n",
      "Training until validation scores don't improve for 100 rounds\n"
     ]
    },
    {
     "name": "stderr",
     "output_type": "stream",
     "text": [
      "/home/oleg/miniconda3/envs/tabular/lib/python3.9/site-packages/lightgbm/basic.py:1294: UserWarning: categorical_feature in Dataset is overridden.\n",
      "New categorical_feature is ['plavka_NAPR_ZAD', 'plavka_NMZ', 'plavka_TIPE_GOL']\n",
      "  warnings.warn('categorical_feature in Dataset is overridden.\\n'\n"
     ]
    },
    {
     "name": "stdout",
     "output_type": "stream",
     "text": [
      "Early stopping, best iteration is:\n",
      "[54]\tvalid_0's rmse: 0.674257\tvalid_0's l2: 0.454623\n",
      "Training until validation scores don't improve for 100 rounds\n",
      "[500]\tvalid_0's rmse: 0.695403\tvalid_0's l2: 0.483586\n",
      "Early stopping, best iteration is:\n",
      "[787]\tvalid_0's rmse: 0.694545\tvalid_0's l2: 0.482393\n",
      "Training until validation scores don't improve for 100 rounds\n",
      "Early stopping, best iteration is:\n",
      "[100]\tvalid_0's rmse: 0.726151\tvalid_0's l2: 0.527295\n",
      "Training until validation scores don't improve for 100 rounds\n",
      "Early stopping, best iteration is:\n",
      "[151]\tvalid_0's rmse: 0.670522\tvalid_0's l2: 0.4496\n",
      "Training until validation scores don't improve for 100 rounds\n",
      "Early stopping, best iteration is:\n",
      "[236]\tvalid_0's rmse: 0.73927\tvalid_0's l2: 0.54652\n",
      "\u001b[32m[I 2021-10-31 00:03:44,483]\u001b[0m Trial 13 finished with value: 0.7009489589390723 and parameters: {'num_leaves': 36, 'max_depth': 12, 'learning_rate': 0.06121707170698408, 'min_child_samples': 40, 'reg_alpha': 0.006518561954529369, 'min_sum_hessian_in_leaf': 0.029402781145734646, 'reg_lambda': 0.04242260487207641}. Best is trial 13 with value: 0.7009489589390723.\u001b[0m\n",
      "Training until validation scores don't improve for 100 rounds\n"
     ]
    },
    {
     "name": "stderr",
     "output_type": "stream",
     "text": [
      "/home/oleg/miniconda3/envs/tabular/lib/python3.9/site-packages/lightgbm/basic.py:1294: UserWarning: categorical_feature in Dataset is overridden.\n",
      "New categorical_feature is ['plavka_NAPR_ZAD', 'plavka_NMZ', 'plavka_TIPE_GOL']\n",
      "  warnings.warn('categorical_feature in Dataset is overridden.\\n'\n"
     ]
    },
    {
     "name": "stdout",
     "output_type": "stream",
     "text": [
      "Early stopping, best iteration is:\n",
      "[37]\tvalid_0's rmse: 0.673864\tvalid_0's l2: 0.454093\n",
      "Training until validation scores don't improve for 100 rounds\n"
     ]
    }
   ],
   "source": [
    "if not submission:\n",
    "    study = optuna.create_study(direction=\"minimize\")\n",
    "    study.optimize(objective, n_trials=50, show_progress_bar = True)"
   ]
  },
  {
   "cell_type": "code",
   "execution_count": null,
   "id": "0548f82c-a875-443c-8e18-93f78a2036c0",
   "metadata": {},
   "outputs": [],
   "source": [
    "if not submission:    \n",
    "    print(study.best_params)\n",
    "    print(study.best_value)"
   ]
  },
  {
   "cell_type": "code",
   "execution_count": null,
   "id": "e4f09bfa-42b4-4df9-8471-9cdb8052de1c",
   "metadata": {},
   "outputs": [],
   "source": [
    "if not submission:\n",
    "    fig = optuna.visualization.plot_optimization_history(study)\n",
    "    fig.show()\n",
    "\n",
    "    fig = optuna.visualization.plot_param_importances(study)\n",
    "    fig.show()"
   ]
  },
  {
   "cell_type": "code",
   "execution_count": null,
   "id": "ac2f8078-c626-4a1c-be39-92bf551582e0",
   "metadata": {
    "scrolled": true,
    "tags": []
   },
   "outputs": [],
   "source": [
    "%%time\n",
    "\n",
    "lightgbm_params = {'n_estimators': 10000,\n",
    "                       'importance_type': 'gain',\n",
    "                      'random_state': 42}\n",
    "\n",
    "# CV\n",
    "splitter = KFold(n_splits=10, shuffle = True, random_state = 42)\n",
    "splits = splitter.split(train_pre)\n",
    "\n",
    "if submission:\n",
    "    if target_column == 'C':\n",
    "        params = {'num_leaves': 33, 'max_depth': 11, 'learning_rate': 0.005299847091899389, 'min_child_samples': 24, 'reg_alpha': 0.00014328081049541546, 'min_sum_hessian_in_leaf': 0.0010347493210353712, 'reg_lambda': 0.0002752095517027098}\n",
    "    else:\n",
    "        params = {'num_leaves': 115, 'max_depth': 8, 'learning_rate': 0.0033427175604507984, 'min_child_samples': 82, 'reg_alpha': 1.9252826057138018e-05, 'min_sum_hessian_in_leaf': 0.2006145922167942, 'reg_lambda': 0.0961359669477429}\n",
    "else:\n",
    "    params = study.best_params\n",
    "        \n",
    "timestamp = get_timestamp()\n",
    "\n",
    "eval_scores = []\n",
    "feature_importances = []\n",
    "\n",
    "models = []\n",
    "\n",
    "for i, (train_index, val_index) in enumerate(splits):\n",
    "    train_split = train_pre.iloc[train_index]\n",
    "    val_split = train_pre.iloc[val_index]\n",
    "\n",
    "    model = LGBMRegressor(**lightgbm_params, **params)\n",
    "\n",
    "    model.fit(train_split[X_columns], \n",
    "                  train_split[target_column], \n",
    "                  eval_set = (val_split[X_columns], val_split[target_column]), \n",
    "                  early_stopping_rounds = 100,\n",
    "                  eval_metric = 'rmse',\n",
    "                  verbose = 500,\n",
    "                  categorical_feature = cat_columns)\n",
    "\n",
    "    models.append(model)\n",
    "\n",
    "    # Return loss, iter\n",
    "    eval_scores.append(model.best_score_[\"valid_0\"][\"rmse\"])\n",
    "    feature_importances.append(model.feature_importances_)\n",
    "\n",
    "print(\"Avg eval score\", np.mean(eval_scores))"
   ]
  },
  {
   "cell_type": "code",
   "execution_count": null,
   "id": "b947a269-4e26-42a9-b341-5f7ee9eb9625",
   "metadata": {},
   "outputs": [],
   "source": [
    "# Calculating average feature importances\n",
    "\n",
    "df = pd.DataFrame(feature_importances, columns = X_columns)\n",
    "df_mean = df.mean(axis=0).sort_values(ascending = True)\n",
    "df_mean.plot(kind='barh', figsize=(10, 15))"
   ]
  },
  {
   "cell_type": "code",
   "execution_count": null,
   "id": "8cb578d7-1273-4bd2-92c0-b67712028527",
   "metadata": {},
   "outputs": [],
   "source": [
    "timestamp = get_timestamp()\n",
    "sample_submission = pd.read_csv('data/sample_submission.csv')\n",
    "predictions = []\n",
    "\n",
    "for model in models:\n",
    "    predictions.append(QT.inverse_transform(model.predict(test_pre[X_columns]).reshape(-1, 1)))\n",
    "\n",
    "\"\"\"\n",
    "if target_column == 'C':\n",
    "    agg_func = lambda x: np.median(x, axis = 0)\n",
    "else:\n",
    "    agg_func = lambda x: np.mean(x, axis = 0)\n",
    "\"\"\"\n",
    "\n",
    "sample_submission[target_column] = np.median(np.array(predictions), axis = 0)\n",
    "\n",
    "sns.histplot(sample_submission[target_column])"
   ]
  },
  {
   "cell_type": "code",
   "execution_count": null,
   "id": "b8541537-b7cd-4273-aee4-7f8be389402c",
   "metadata": {},
   "outputs": [],
   "source": [
    "sample_submission.to_csv(f'submissions_{target_column}/lgbm_{timestamp}.csv', index = False)"
   ]
  },
  {
   "cell_type": "code",
   "execution_count": null,
   "id": "aac57024-0395-45a7-b409-9b4dc7ebc98a",
   "metadata": {},
   "outputs": [],
   "source": [
    "sample_submission[target_column] = np.mean(np.array(predictions), axis = 0)\n",
    "sample_submission.to_csv(f'submissions_{target_column}/mean_lgbm_{timestamp}.csv', index = False)"
   ]
  },
  {
   "cell_type": "code",
   "execution_count": null,
   "id": "7009ed65-1afb-46b2-a890-c8109e89f5c8",
   "metadata": {},
   "outputs": [],
   "source": []
  }
 ],
 "metadata": {
  "kernelspec": {
   "display_name": "Python 3 (ipykernel)",
   "language": "python",
   "name": "python3"
  },
  "language_info": {
   "codemirror_mode": {
    "name": "ipython",
    "version": 3
   },
   "file_extension": ".py",
   "mimetype": "text/x-python",
   "name": "python",
   "nbconvert_exporter": "python",
   "pygments_lexer": "ipython3",
   "version": "3.9.6"
  }
 },
 "nbformat": 4,
 "nbformat_minor": 5
}
