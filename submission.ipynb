{
 "cells": [
  {
   "cell_type": "code",
   "execution_count": 1,
   "id": "c0aa2458-945a-4a13-9ff7-b64485f4c4c6",
   "metadata": {},
   "outputs": [],
   "source": [
    "import numpy as np\n",
    "import pandas as pd\n",
    "\n",
    "from sklearn.preprocessing import StandardScaler, RobustScaler, FunctionTransformer\n",
    "from pandas_profiling import ProfileReport\n",
    "\n",
    "from func import get_timestamp\n",
    "pd.set_option('display.max_rows', 300)"
   ]
  },
  {
   "cell_type": "code",
   "execution_count": 2,
   "id": "d74b0694-dc9f-4633-8bed-51a37d042584",
   "metadata": {},
   "outputs": [],
   "source": [
    "submission_C = pd.read_csv('submissions_C/mean_lgbm_2021-10-30-23-32.csv')\n",
    "submission_TST = pd.read_csv('submissions_TST/mean_lgbm_2021-10-30-23-43.csv')"
   ]
  },
  {
   "cell_type": "code",
   "execution_count": 3,
   "id": "51a1c889-8308-405e-89e1-c34f3ecbbefb",
   "metadata": {},
   "outputs": [],
   "source": [
    "sample_submission = pd.read_csv('data/sample_submission.csv')"
   ]
  },
  {
   "cell_type": "code",
   "execution_count": 4,
   "id": "29de4599-562a-4d23-b7ca-2b90286865f3",
   "metadata": {},
   "outputs": [],
   "source": [
    "sample_submission['C'] = submission_C['C']\n",
    "sample_submission['TST'] = submission_TST['TST']"
   ]
  },
  {
   "cell_type": "code",
   "execution_count": 5,
   "id": "d207c4de-56a4-4d80-9971-f2387897f28d",
   "metadata": {},
   "outputs": [],
   "source": [
    "sample_submission.to_csv(f'submissions/{get_timestamp()}.csv', index=False)"
   ]
  },
  {
   "cell_type": "code",
   "execution_count": null,
   "id": "97721d7f-3b42-4b84-8e67-535e2cf29dcd",
   "metadata": {},
   "outputs": [],
   "source": []
  }
 ],
 "metadata": {
  "kernelspec": {
   "display_name": "Python 3 (ipykernel)",
   "language": "python",
   "name": "python3"
  },
  "language_info": {
   "codemirror_mode": {
    "name": "ipython",
    "version": 3
   },
   "file_extension": ".py",
   "mimetype": "text/x-python",
   "name": "python",
   "nbconvert_exporter": "python",
   "pygments_lexer": "ipython3",
   "version": "3.9.6"
  }
 },
 "nbformat": 4,
 "nbformat_minor": 5
}
